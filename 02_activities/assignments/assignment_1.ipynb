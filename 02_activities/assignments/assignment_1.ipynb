{
  "metadata": {
    "kernelspec": {
      "name": "python",
      "display_name": "Python (Pyodide)",
      "language": "python"
    },
    "language_info": {
      "codemirror_mode": {
        "name": "python",
        "version": 3
      },
      "file_extension": ".py",
      "mimetype": "text/x-python",
      "name": "python",
      "nbconvert_exporter": "python",
      "pygments_lexer": "ipython3",
      "version": "3.8"
    }
  },
  "nbformat_minor": 4,
  "nbformat": 4,
  "cells": [
    {
      "cell_type": "markdown",
      "source": "# Assignment #1: Anagram Checker\n\n**Background**: Anagram Checker is a program that takes two words and determines if an anagram can be made from it. If so, the program will return `true`, otherwise `false`.",
      "metadata": {}
    },
    {
      "cell_type": "markdown",
      "source": "## Submission Information\n\n🚨 **Please review our [Assignment Submission Guide](https://github.com/UofT-DSI/onboarding/blob/main/onboarding_documents/submissions.md)** 🚨 for detailed instructions on how to format, branch, and submit your work. Following these guidelines is crucial for your submissions to be evaluated correctly.\n\n### Submission Parameters:\n* Submission Due Date: `11:59 PM - Sept 1, 2024`\n* The branch name for your repo should be: `assignment-1`\n* What to submit for this assignment:\n    * This Jupyter Notebook (assignment_1.ipynb) should be populated and should be the only change in your pull request.\n* What the pull request link should look like for this assignment: `https://github.com/<your_github_username>/python/pull/<pr_id>`\n    * Open a private window in your browser. Copy and paste the link to your pull request into the address bar. Make sure you can see your pull request properly. This helps the technical facilitator and learning support staff review your submission easily.\n\nChecklist:\n- [ ] Created a branch with the correct naming convention.\n- [ ] Ensured that the repository is public.\n- [ ] Reviewed the PR description guidelines and adhered to them.\n- [ ] Verify that the link is accessible in a private browser window.\n\nIf you encounter any difficulties or have questions, please don't hesitate to reach out to our team via our Slack at `#cohort-3-help`. Our Technical Facilitators and Learning Support staff are here to help you navigate any challenges.",
      "metadata": {}
    },
    {
      "cell_type": "markdown",
      "source": "### Part 1: Building the base Anagram Checker\n\nGiven two valid strings, check to see if they are anagrams of each other. If it is, return `True`, else `False`. For this part, we can assume that uppercase letters are the same as if it was a lowercase character.\n\nExamples of anagrams:\n* Silent and Listen\n* Night and Think\n\nExample outputs:\n```python\nanagram_checker(\"Silent\", \"listen\") # True\nanagram_checker(\"Silent\", \"Night\") # False\nanagram_checker(\"night\", \"Thing\") # True\n```",
      "metadata": {}
    },
    {
      "cell_type": "code",
      "source": "# This is a function, which we will learn more about next week. For testing purposes, we will write our code in the function\ndef anagram_checker(word_a, word_b):\n  # Your code here\n    word_a = word_a.lower()\n    word_b = word_b.lower()\n    #converting words into lower case\n    return sorted(word_a)==sorted(word_b) \n    #sorted eturns a list of the characters in the string, sorted in ascending order\n# Run your code to check using the words below:\nanagram_checker(\"Silent\", \"listen\")",
      "metadata": {
        "trusted": true
      },
      "outputs": [
        {
          "execution_count": 12,
          "output_type": "execute_result",
          "data": {
            "text/plain": "True"
          },
          "metadata": {}
        }
      ],
      "execution_count": 12
    },
    {
      "cell_type": "code",
      "source": "print (anagram_checker(\"Silent\", \"Night\"))",
      "metadata": {
        "trusted": true
      },
      "outputs": [
        {
          "name": "stdout",
          "text": "False\n",
          "output_type": "stream"
        }
      ],
      "execution_count": 13
    },
    {
      "cell_type": "code",
      "source": "print(anagram_checker(\"night\", \"Thing\"))",
      "metadata": {
        "trusted": true
      },
      "outputs": [
        {
          "name": "stdout",
          "text": "True\n",
          "output_type": "stream"
        }
      ],
      "execution_count": 14
    },
    {
      "cell_type": "markdown",
      "source": "### Part 2: Expanding the functionality of the Anagram Checker\n\nUsing your existing and functional anagram checker, let's add a boolean option called `is_case_sensitive`, which will return `True` or `False` based on if the two compared words are anagrams and if we are checking for case sensitivity.",
      "metadata": {}
    },
    {
      "cell_type": "code",
      "source": "def anagram_checker(word_a, word_b, is_case_sensitive):\n  # Modify your existing code here\n    if not is_case_sensitive:\n     word_a= word_a.lower()\n     word_b= word_b.lower()\n    return sorted(word_a)==sorted(word_b) \n# Run your code to check using the words below:\nanagram_checker(\"Silent\", \"listen\", False) # True",
      "metadata": {
        "trusted": true
      },
      "outputs": [
        {
          "execution_count": 19,
          "output_type": "execute_result",
          "data": {
            "text/plain": "True"
          },
          "metadata": {}
        }
      ],
      "execution_count": 19
    },
    {
      "cell_type": "code",
      "source": "anagram_checker(\"Silent\", \"Listen\", True) # False",
      "metadata": {
        "trusted": true
      },
      "outputs": [
        {
          "execution_count": 20,
          "output_type": "execute_result",
          "data": {
            "text/plain": "False"
          },
          "metadata": {}
        }
      ],
      "execution_count": 20
    },
    {
      "cell_type": "markdown",
      "source": "|Criteria|Pass|Fail|\n|---|---|---|\n|Code Execution|All code cells execute without errors.|Any code cell produces an error upon execution.|\n|Code Quality|Code is well-organized, concise, and includes necessary comments for clarity. E.g. Great use of variable names.|Code is unorganized, verbose, or lacks necessary comments. E.g. Single character variable names outside of loops.|",
      "metadata": {}
    }
  ]
}